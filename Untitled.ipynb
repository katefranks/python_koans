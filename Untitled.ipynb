{
 "cells": [
  {
   "cell_type": "code",
   "execution_count": 28,
   "id": "52578038",
   "metadata": {},
   "outputs": [
    {
     "data": {
      "text/plain": [
       "True"
      ]
     },
     "execution_count": 28,
     "metadata": {},
     "output_type": "execute_result"
    }
   ],
   "source": [
    "def function():\n",
    "    return \"pineapple\"\n",
    "def function2():\n",
    "    return \"tractor\"\n",
    "class Class:\n",
    "    def method(self):\n",
    "        return \"parrot\"\n",
    "obj = Class()\n",
    "obj.method.__self__ == obj"
   ]
  },
  {
   "cell_type": "code",
   "execution_count": 34,
   "id": "3a05643d",
   "metadata": {},
   "outputs": [],
   "source": [
    "class Dog:\n",
    "        def name(self):\n",
    "            return \"Fido\"\n",
    "\n",
    "        def _tail(self):\n",
    "            # Prefixing a method with an underscore implies private scope\n",
    "            return \"wagging\"\n",
    "\n",
    "        def __password(self):\n",
    "            return 'password' # Genius!\n",
    "\n",
    "rover = Dog()"
   ]
  },
  {
   "cell_type": "code",
   "execution_count": null,
   "id": "fb978c2a",
   "metadata": {},
   "outputs": [],
   "source": []
  }
 ],
 "metadata": {
  "kernelspec": {
   "display_name": "Python 3",
   "language": "python",
   "name": "python3"
  },
  "language_info": {
   "codemirror_mode": {
    "name": "ipython",
    "version": 3
   },
   "file_extension": ".py",
   "mimetype": "text/x-python",
   "name": "python",
   "nbconvert_exporter": "python",
   "pygments_lexer": "ipython3",
   "version": "3.9.5"
  }
 },
 "nbformat": 4,
 "nbformat_minor": 5
}
