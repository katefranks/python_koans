{
 "cells": [
  {
   "cell_type": "code",
   "execution_count": 28,
   "id": "0cd28805",
   "metadata": {},
   "outputs": [
    {
     "data": {
      "text/plain": [
       "True"
      ]
     },
     "execution_count": 28,
     "metadata": {},
     "output_type": "execute_result"
    }
   ],
   "source": [
    "def function():\n",
    "    return \"pineapple\"\n",
    "def function2():\n",
    "    return \"tractor\"\n",
    "class Class:\n",
    "    def method(self):\n",
    "        return \"parrot\"\n",
    "obj = Class()\n",
    "obj.method.__self__ == obj"
   ]
  },
  {
   "cell_type": "code",
   "execution_count": null,
   "id": "f128f945",
   "metadata": {},
   "outputs": [],
   "source": [
    "class Dog:\n",
    "        def name(self):\n",
    "            return \"Fido\"\n",
    "\n",
    "        def _tail(self):\n",
    "            # Prefixing a method with an underscore implies private scope\n",
    "            return \"wagging\"\n",
    "\n",
    "        def __password(self):\n",
    "            return 'password' # Genius!\n",
    "\n",
    "    def test_calling_methods_in_other_objects(self):\n",
    "        rover = self.Dog()\n",
    "        self.assertEqual('Fido', rover.name())\n",
    "\n",
    "    def test_private_access_is_implied_but_not_enforced(self):\n",
    "        rover = self.Dog()\n",
    "\n",
    "        # This is a little rude, but legal\n",
    "        self.assertEqual('wagging', rover._tail())\n",
    "\n",
    "    def test_attributes_with_double_underscore_prefixes_are_subject_to_name_mangling(self):\n",
    "        rover = self.Dog()\n",
    "        with self.assertRaises(): password = rover.__password()"
   ]
  }
 ],
 "metadata": {
  "kernelspec": {
   "display_name": "Python 3",
   "language": "python",
   "name": "python3"
  },
  "language_info": {
   "codemirror_mode": {
    "name": "ipython",
    "version": 3
   },
   "file_extension": ".py",
   "mimetype": "text/x-python",
   "name": "python",
   "nbconvert_exporter": "python",
   "pygments_lexer": "ipython3",
   "version": "3.9.5"
  }
 },
 "nbformat": 4,
 "nbformat_minor": 5
}
